{
 "cells": [
  {
   "cell_type": "code",
   "execution_count": 1,
   "id": "99783269",
   "metadata": {},
   "outputs": [],
   "source": [
    "import numpy as np\n",
    "import random"
   ]
  },
  {
   "cell_type": "code",
   "execution_count": 2,
   "id": "c2039369",
   "metadata": {},
   "outputs": [],
   "source": [
    "random.seed(777)"
   ]
  },
  {
   "cell_type": "code",
   "execution_count": 3,
   "id": "637573c9",
   "metadata": {},
   "outputs": [],
   "source": [
    "def sigmoid(x, derivative = False):\n",
    "    if (derivative == True):\n",
    "        return x * (1 - x)\n",
    "    return 1 / (1 + np.exp(-x))\n",
    "\n",
    "def tanh(x, derivative = False):\n",
    "    if (derivative == True):\n",
    "        return 1 - x ** 2\n",
    "    return np.tanh(x)\n",
    "\n",
    "def makeMatrix(i, j, fill = 0.0):\n",
    "    mat = []\n",
    "    for i in range(i):\n",
    "        mat.append([fill] * j)\n",
    "    return mat"
   ]
  },
  {
   "cell_type": "code",
   "execution_count": 4,
   "id": "ac228976",
   "metadata": {},
   "outputs": [],
   "source": [
    "class NeuralNetwork:\n",
    "    \n",
    "    def __init__(self, num_x, num_yh, num_yo, bias=1):\n",
    "        self.num_x = num_x + bias\n",
    "        self.num_yh = num_yh\n",
    "        self.num_yo = num_yo\n",
    "        \n",
    "        self.activation_input = [1.0] * self.num_x\n",
    "        self.activation_hidden = [1.0] * self.num_yh\n",
    "        self.activation_out = [1.0] * self.num_yo\n",
    "        \n",
    "        self.weight_in = makeMatrix(self.num_x, self.num_yh)\n",
    "        for i in range(self.num_x):\n",
    "            for j in range(self.num_yh):\n",
    "                self.weight_in[i][j] = random.random()\n",
    "                \n",
    "        self.weight_out = makeMatrix(self.num_yh, self.num_yo)\n",
    "        for j in range(self.num_yh):\n",
    "            for k in range(self.num_yo):\n",
    "                self.weight_out[j][k] = random.random()\n",
    "                \n",
    "        self.gradient_in = makeMatrix(self.num_x, self.num_yh)\n",
    "        self.gradient_out = makeMatrix(self.num_yh, self.num_yo)\n",
    "        \n",
    "        \n",
    "        \n",
    "    def update(self, inputs):\n",
    "        for i in range(self.num_x - 1):\n",
    "            self.activation_input[i] = inputs[i]\n",
    "        \n",
    "        for j in range(self.num_yh):\n",
    "            sum = 0.0\n",
    "            for i in range(self.num_x):\n",
    "                sum = sum + self.activation_input[i] * self.weight_in[i][j]\n",
    "            self.activation_hidden[j] = tanh(sum, False)\n",
    "            \n",
    "        for k in range(self.num_yo):\n",
    "            sum = 0.0\n",
    "            for j in range(self.num_yh):\n",
    "                sum = sum + self.activation_hidden[j] * self.weight_out[j][k]\n",
    "            self.activation_out[k] = tanh(sum, False)\n",
    "            \n",
    "        return self.activation_out[:]\n",
    "    \n",
    "    \n",
    "    def backPropagate(self, targets):\n",
    "        \n",
    "        # 델타 출력 계산\n",
    "        output_deltas = [0.0] * self.num_yo\n",
    "        for k in range(self.num_yo):\n",
    "            error = targets[k] - self.activation_out[k]\n",
    "            output_deltas[k] = tanh(self.activation_out[k], True) * error\n",
    "            \n",
    "        # 은닉 노드의 오차 함수\n",
    "        hidden_deltas = [0.0] * self.num_yh\n",
    "        for j in range(self.num_yh):\n",
    "            error = 0.0\n",
    "            for k in range(self.num_yo):\n",
    "                error = error + output_deltas[k] * self.weight_out[j][k]\n",
    "            hidden_deltas[j] = tanh(self.activation_hidden[j], True) * error\n",
    "\n",
    "        # 출력 가중치 업데이트\n",
    "        for j in range(self.num_yh):\n",
    "            for k in range(self.num_yo):\n",
    "                gradient = output_deltas[k] * self.activation_hidden[j]\n",
    "                v = mo * self.gradient_out[j][k] - lr * gradient\n",
    "                self.weight_out[j][k] += v\n",
    "                self.gradient_out[j][k] = gradient\n",
    "                \n",
    "        # 입력 가중치 업데이트\n",
    "        for i in range(self.num_x):\n",
    "            for j in range(self.num_yh):\n",
    "                gradient = hidden_deltas[j] * self.activation_input[i]\n",
    "                v = mo*self.gradient_in[i][j] - lr * gradient\n",
    "                self.weight_in[i][j] += v\n",
    "                self.gradient_in[i][j] = gradient\n",
    "                \n",
    "        error = 0.0\n",
    "        for k in range(len(targets)):\n",
    "            error = error + 0.5 * (targets[k] - self.activation_out[k]) ** 2\n",
    "        return error    \n",
    "        \n",
    "        \n",
    "    def train(self, patterns):\n",
    "        for i in range(iterations):\n",
    "            error = 0.0\n",
    "            for p in patterns:\n",
    "                inputs = p[0]\n",
    "                targets = p[1]\n",
    "                self.update(inputs)\n",
    "                error = error + self.backPropagate(targets)\n",
    "            if i % 500 == 0:\n",
    "                print('error: %-.5f' %error)\n",
    "                \n",
    "    def result(self, patterns):\n",
    "        for p in patterns:\n",
    "            print('Input: %s, Predict: %s' %(p[0], self.update(p[0])))"
   ]
  },
  {
   "cell_type": "code",
   "execution_count": 5,
   "id": "edcf950d",
   "metadata": {},
   "outputs": [
    {
     "name": "stdout",
     "output_type": "stream",
     "text": [
      "error: 0.66537\n",
      "error: 0.00263\n",
      "error: 0.00088\n",
      "error: 0.00051\n",
      "error: 0.00036\n",
      "error: 0.00027\n",
      "error: 0.00022\n",
      "error: 0.00018\n",
      "error: 0.00016\n",
      "error: 0.00014\n",
      "Input: [0, 0], Predict: [0.0006183430577843577]\n",
      "Input: [0, 1], Predict: [0.9889696478602484]\n",
      "Input: [1, 0], Predict: [0.9889970505963889]\n",
      "Input: [1, 1], Predict: [0.0021449252379778148]\n"
     ]
    }
   ],
   "source": [
    "XOR_data = [\n",
    "    [[0, 0], [0]],\n",
    "    [[0, 1], [1]],\n",
    "    [[1, 0], [1]],\n",
    "    [[1, 1], [0]]\n",
    "]\n",
    "\n",
    "iterations = 5000\n",
    "lr = 0.1\n",
    "mo = 0.4\n",
    "\n",
    "\n",
    "n = NeuralNetwork(2, 2, 1)\n",
    "n.train(XOR_data)\n",
    "n.result(XOR_data)"
   ]
  },
  {
   "cell_type": "code",
   "execution_count": 6,
   "id": "e47997bf",
   "metadata": {},
   "outputs": [
    {
     "name": "stdout",
     "output_type": "stream",
     "text": [
      "error: 0.48858\n",
      "error: 0.00135\n",
      "error: 0.00058\n",
      "error: 0.00035\n",
      "error: 0.00025\n",
      "error: 0.00020\n",
      "error: 0.00016\n",
      "error: 0.00014\n",
      "error: 0.00012\n",
      "error: 0.00010\n",
      "Input: [0, 0], Predict: [0.999463793551414]\n",
      "Input: [0, 1], Predict: [0.9937827976320727]\n",
      "Input: [1, 0], Predict: [0.9937853516867425]\n",
      "Input: [1, 1], Predict: [-0.017536998250013033]\n"
     ]
    }
   ],
   "source": [
    "NAND_data = [\n",
    "    [[0, 0], [1]],\n",
    "    [[0, 1], [1]],\n",
    "    [[1, 0], [1]],\n",
    "    [[1, 1], [0]]\n",
    "]\n",
    "\n",
    "iterations = 5000\n",
    "lr = 0.1\n",
    "mo = 0.4\n",
    "\n",
    "\n",
    "n = NeuralNetwork(2, 2, 1)\n",
    "n.train(NAND_data)\n",
    "n.result(NAND_data)"
   ]
  },
  {
   "cell_type": "code",
   "execution_count": 7,
   "id": "4cfcba3f",
   "metadata": {
    "scrolled": true
   },
   "outputs": [
    {
     "name": "stdout",
     "output_type": "stream",
     "text": [
      "error: 0.49372\n",
      "error: 0.00142\n",
      "error: 0.00029\n",
      "error: 0.00016\n",
      "error: 0.00011\n",
      "error: 0.00008\n",
      "error: 0.00006\n",
      "error: 0.00005\n",
      "error: 0.00005\n",
      "error: 0.00004\n",
      "Input: [0, 0], Predict: [-0.00023823529616136686]\n",
      "Input: [0, 1], Predict: [-0.0001336424497126551]\n",
      "Input: [1, 0], Predict: [8.088064878369266e-05]\n",
      "Input: [1, 1], Predict: [0.9915979792505588]\n"
     ]
    }
   ],
   "source": [
    "AND_data = [\n",
    "    [[0, 0], [0]],\n",
    "    [[0, 1], [0]],\n",
    "    [[1, 0], [0]],\n",
    "    [[1, 1], [1]]\n",
    "]\n",
    "\n",
    "iterations = 5000\n",
    "lr = 0.1\n",
    "mo = 0.4\n",
    "\n",
    "\n",
    "n = NeuralNetwork(2, 2, 1)\n",
    "n.train(AND_data)\n",
    "n.result(AND_data)"
   ]
  },
  {
   "cell_type": "code",
   "execution_count": 8,
   "id": "7658671d",
   "metadata": {},
   "outputs": [
    {
     "name": "stdout",
     "output_type": "stream",
     "text": [
      "error: 0.21750\n",
      "error: 0.00028\n",
      "error: 0.00014\n",
      "error: 0.00009\n",
      "error: 0.00007\n",
      "error: 0.00005\n",
      "error: 0.00004\n",
      "error: 0.00004\n",
      "error: 0.00003\n",
      "error: 0.00003\n",
      "Input: [0, 0], Predict: [3.497254222718236e-05]\n",
      "Input: [0, 1], Predict: [0.9952843915064272]\n",
      "Input: [1, 0], Predict: [0.9948657185591684]\n",
      "Input: [1, 1], Predict: [0.9985133972157233]\n"
     ]
    }
   ],
   "source": [
    "OR_data = [\n",
    "    [[0, 0], [0]],\n",
    "    [[0, 1], [1]],\n",
    "    [[1, 0], [1]],\n",
    "    [[1, 1], [1]]\n",
    "]\n",
    "\n",
    "iterations = 5000\n",
    "lr = 0.1\n",
    "mo = 0.4\n",
    "\n",
    "\n",
    "n = NeuralNetwork(2, 2, 1)\n",
    "n.train(OR_data)\n",
    "n.result(OR_data)"
   ]
  }
 ],
 "metadata": {
  "kernelspec": {
   "display_name": "Python 3 (ipykernel)",
   "language": "python",
   "name": "python3"
  },
  "language_info": {
   "codemirror_mode": {
    "name": "ipython",
    "version": 3
   },
   "file_extension": ".py",
   "mimetype": "text/x-python",
   "name": "python",
   "nbconvert_exporter": "python",
   "pygments_lexer": "ipython3",
   "version": "3.9.12"
  }
 },
 "nbformat": 4,
 "nbformat_minor": 5
}
