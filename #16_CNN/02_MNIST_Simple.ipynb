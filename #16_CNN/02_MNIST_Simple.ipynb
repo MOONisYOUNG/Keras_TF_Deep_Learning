{
 "cells": [
  {
   "cell_type": "code",
   "execution_count": 1,
   "id": "92023e3e",
   "metadata": {},
   "outputs": [],
   "source": [
    "from keras.datasets import mnist\n",
    "from keras.utils import np_utils\n",
    "from keras.models import Sequential\n",
    "from keras.layers import Dense\n",
    "from keras.callbacks import ModelCheckpoint, EarlyStopping\n",
    "\n",
    "import matplotlib.pyplot as plt\n",
    "import numpy\n",
    "import os\n",
    "import tensorflow as tf"
   ]
  },
  {
   "cell_type": "code",
   "execution_count": 2,
   "id": "bbf8a49e",
   "metadata": {},
   "outputs": [
    {
     "name": "stdout",
     "output_type": "stream",
     "text": [
      "\n",
      "Epoch 1: val_loss improved from inf to 0.15015, saving model to ./code_02_model_result\\01-0.1501.hdf5\n",
      "\n",
      "Epoch 2: val_loss improved from 0.15015 to 0.10354, saving model to ./code_02_model_result\\02-0.1035.hdf5\n",
      "\n",
      "Epoch 3: val_loss improved from 0.10354 to 0.08817, saving model to ./code_02_model_result\\03-0.0882.hdf5\n",
      "\n",
      "Epoch 4: val_loss improved from 0.08817 to 0.07803, saving model to ./code_02_model_result\\04-0.0780.hdf5\n",
      "\n",
      "Epoch 5: val_loss improved from 0.07803 to 0.07300, saving model to ./code_02_model_result\\05-0.0730.hdf5\n",
      "\n",
      "Epoch 6: val_loss improved from 0.07300 to 0.06412, saving model to ./code_02_model_result\\06-0.0641.hdf5\n",
      "\n",
      "Epoch 7: val_loss did not improve from 0.06412\n",
      "\n",
      "Epoch 8: val_loss improved from 0.06412 to 0.06065, saving model to ./code_02_model_result\\08-0.0607.hdf5\n",
      "\n",
      "Epoch 9: val_loss did not improve from 0.06065\n",
      "\n",
      "Epoch 10: val_loss did not improve from 0.06065\n",
      "\n",
      "Epoch 11: val_loss did not improve from 0.06065\n",
      "\n",
      "Epoch 12: val_loss did not improve from 0.06065\n",
      "\n",
      "Epoch 13: val_loss improved from 0.06065 to 0.05913, saving model to ./code_02_model_result\\13-0.0591.hdf5\n",
      "\n",
      "Epoch 14: val_loss did not improve from 0.05913\n",
      "\n",
      "Epoch 15: val_loss did not improve from 0.05913\n",
      "\n",
      "Epoch 16: val_loss did not improve from 0.05913\n",
      "\n",
      "Epoch 17: val_loss did not improve from 0.05913\n",
      "\n",
      "Epoch 18: val_loss did not improve from 0.05913\n",
      "\n",
      "Epoch 19: val_loss did not improve from 0.05913\n",
      "\n",
      "Epoch 20: val_loss did not improve from 0.05913\n",
      "\n",
      "Epoch 21: val_loss did not improve from 0.05913\n",
      "\n",
      "Epoch 22: val_loss did not improve from 0.05913\n",
      "\n",
      "Epoch 23: val_loss did not improve from 0.05913\n",
      "313/313 [==============================] - 1s 1ms/step - loss: 0.0674 - accuracy: 0.9839\n",
      "\n",
      "👉 Test Accuracy : 0.9839\n"
     ]
    }
   ],
   "source": [
    "seed = 0\n",
    "numpy.random.seed(seed)\n",
    "tf.random.set_seed(3)\n",
    "\n",
    "(X_train, Y_train), (X_test, Y_test) = mnist.load_data()\n",
    "\n",
    "X_train = X_train.reshape(X_train.shape[0], 784).astype('float32') / 255\n",
    "X_test = X_test.reshape(X_test.shape[0], 784).astype('float32') / 255\n",
    "\n",
    "Y_train = np_utils.to_categorical(Y_train, 10)\n",
    "Y_test = np_utils.to_categorical(Y_test, 10)\n",
    "\n",
    "model = Sequential()\n",
    "model.add(Dense(512, input_dim=784, activation='relu'))\n",
    "model.add(Dense(10, activation='softmax'))\n",
    "\n",
    "model.compile(loss='categorical_crossentropy', optimizer='adam', metrics=['accuracy'])\n",
    "\n",
    "MODEL_DIR = './code_02_model_result/'\n",
    "if not os.path.exists(MODEL_DIR):\n",
    "    os.mkdir(MODEL_DIR)\n",
    "    \n",
    "modelpath = \"./code_02_model_result/{epoch:02d}-{val_loss:.4f}.hdf5\"\n",
    "checkpointer = ModelCheckpoint(filepath=modelpath, monitor='val_loss',\n",
    "                              verbose=1, save_best_only=True)\n",
    "early_stopping_callback = EarlyStopping(monitor='val_loss', patience=10)\n",
    "\n",
    "history = model.fit(X_train, Y_train, validation_data=(X_test, Y_test), epochs=30,\n",
    "                   batch_size=200, verbose=0, \n",
    "                    callbacks=[early_stopping_callback, checkpointer])\n",
    "\n",
    "print(\"\\n👉 Test Accuracy : %.4f\" %(model.evaluate(X_test, Y_test)[1]))"
   ]
  },
  {
   "cell_type": "code",
   "execution_count": 3,
   "id": "b157d0cc",
   "metadata": {},
   "outputs": [
    {
     "data": {
      "image/png": "[encoded data removed]",
      "text/plain": [
       "<Figure size 432x288 with 1 Axes>"
      ]
     },
     "metadata": {
      "needs_background": "light"
     },
     "output_type": "display_data"
    }
   ],
   "source": [
    "y_vloss = history.history['val_loss']\n",
    "y_loss = history.history['loss']\n",
    "\n",
    "x_len = numpy.arange(len(y_loss))\n",
    "plt.plot(x_len, y_vloss, marker='.', c='red', label='Testset_loss')\n",
    "plt.plot(x_len, y_loss, marker='.', c='cornflowerblue', label='Trainset_loss')\n",
    "\n",
    "plt.legend(loc='upper right')\n",
    "plt.grid()\n",
    "plt.xlabel('epoch')\n",
    "plt.ylabel('loss')\n",
    "plt.show()"
   ]
  }
 ],
 "metadata": {
  "kernelspec": {
   "display_name": "Python 3 (ipykernel)",
   "language": "python",
   "name": "python3"
  },
  "language_info": {
   "codemirror_mode": {
    "name": "ipython",
    "version": 3
   },
   "file_extension": ".py",
   "mimetype": "text/x-python",
   "name": "python",
   "nbconvert_exporter": "python",
   "pygments_lexer": "ipython3",
   "version": "3.9.12"
  }
 },
 "nbformat": 4,
 "nbformat_minor": 5
}
