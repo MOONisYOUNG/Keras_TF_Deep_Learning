{
 "cells": [
  {
   "cell_type": "code",
   "execution_count": 1,
   "id": "615cb56e",
   "metadata": {},
   "outputs": [],
   "source": [
    "from keras.datasets import reuters\n",
    "from keras.models import Sequential\n",
    "from keras.layers import Dense, LSTM, Embedding\n",
    "from keras.utils import np_utils, pad_sequences\n",
    "\n",
    "import numpy\n",
    "import tensorflow as tf\n",
    "import matplotlib.pyplot as plt"
   ]
  },
  {
   "cell_type": "code",
   "execution_count": 2,
   "id": "faa4011e",
   "metadata": {},
   "outputs": [
    {
     "name": "stdout",
     "output_type": "stream",
     "text": [
      "46 카테고리\n",
      "8982 학습용 뉴스 기사\n",
      "2246 테스트용 뉴스 기사\n",
      "[1, 2, 2, 8, 43, 10, 447, 5, 25, 207, 270, 5, 2, 111, 16, 369, 186, 90, 67, 7, 89, 5, 19, 102, 6, 19, 124, 15, 90, 67, 84, 22, 482, 26, 7, 48, 4, 49, 8, 864, 39, 209, 154, 6, 151, 6, 83, 11, 15, 22, 155, 11, 15, 7, 48, 9, 2, 2, 504, 6, 258, 6, 272, 11, 15, 22, 134, 44, 11, 15, 16, 8, 197, 2, 90, 67, 52, 29, 209, 30, 32, 132, 6, 109, 15, 17, 12]\n"
     ]
    }
   ],
   "source": [
    "seed = 0\n",
    "numpy.random.seed(seed)\n",
    "tf.random.set_seed(3)\n",
    "\n",
    "(X_train, Y_train), (X_test, Y_test) = reuters.load_data(num_words=1000,\n",
    "                                                         test_split=0.2)\n",
    "\n",
    "category = numpy.max(Y_train) + 1\n",
    "print(category, '카테고리')\n",
    "print(len(X_train), '학습용 뉴스 기사')\n",
    "print(len(X_test), '테스트용 뉴스 기사')\n",
    "print(X_train[0])"
   ]
  },
  {
   "cell_type": "code",
   "execution_count": 3,
   "id": "a538d063",
   "metadata": {},
   "outputs": [
    {
     "name": "stdout",
     "output_type": "stream",
     "text": [
      "Epoch 1/20\n",
      "90/90 [==============================] - 39s 358ms/step - loss: 2.5774 - accuracy: 0.3524 - val_loss: 2.1799 - val_accuracy: 0.4510\n",
      "Epoch 2/20\n",
      "90/90 [==============================] - 30s 332ms/step - loss: 1.9541 - accuracy: 0.5040 - val_loss: 1.7879 - val_accuracy: 0.5454\n",
      "Epoch 3/20\n",
      "90/90 [==============================] - 29s 324ms/step - loss: 1.7581 - accuracy: 0.5346 - val_loss: 1.7726 - val_accuracy: 0.5316\n",
      "Epoch 4/20\n",
      "90/90 [==============================] - 29s 321ms/step - loss: 1.6783 - accuracy: 0.5686 - val_loss: 1.6697 - val_accuracy: 0.5855\n",
      "Epoch 5/20\n",
      "90/90 [==============================] - 29s 320ms/step - loss: 1.6020 - accuracy: 0.5981 - val_loss: 1.5936 - val_accuracy: 0.6037\n",
      "Epoch 6/20\n",
      "90/90 [==============================] - 29s 319ms/step - loss: 1.4947 - accuracy: 0.6235 - val_loss: 1.4988 - val_accuracy: 0.6371\n",
      "Epoch 7/20\n",
      "90/90 [==============================] - 28s 309ms/step - loss: 1.3601 - accuracy: 0.6581 - val_loss: 1.4573 - val_accuracy: 0.6434\n",
      "Epoch 8/20\n",
      "90/90 [==============================] - 29s 320ms/step - loss: 1.2877 - accuracy: 0.6732 - val_loss: 1.3658 - val_accuracy: 0.6536\n",
      "Epoch 9/20\n",
      "90/90 [==============================] - 28s 317ms/step - loss: 1.2039 - accuracy: 0.6954 - val_loss: 1.3264 - val_accuracy: 0.6607\n",
      "Epoch 10/20\n",
      "90/90 [==============================] - 28s 313ms/step - loss: 1.1431 - accuracy: 0.7083 - val_loss: 1.2866 - val_accuracy: 0.6750\n",
      "Epoch 11/20\n",
      "90/90 [==============================] - 28s 307ms/step - loss: 1.1111 - accuracy: 0.7171 - val_loss: 1.3078 - val_accuracy: 0.6719\n",
      "Epoch 12/20\n",
      "90/90 [==============================] - 28s 312ms/step - loss: 1.0621 - accuracy: 0.7267 - val_loss: 1.2565 - val_accuracy: 0.6879\n",
      "Epoch 13/20\n",
      "90/90 [==============================] - 29s 316ms/step - loss: 1.0202 - accuracy: 0.7357 - val_loss: 1.2597 - val_accuracy: 0.6834\n",
      "Epoch 14/20\n",
      "90/90 [==============================] - 28s 313ms/step - loss: 0.9775 - accuracy: 0.7469 - val_loss: 1.2259 - val_accuracy: 0.6919\n",
      "Epoch 15/20\n",
      "90/90 [==============================] - 29s 316ms/step - loss: 0.9479 - accuracy: 0.7544 - val_loss: 1.2422 - val_accuracy: 0.7017\n",
      "Epoch 16/20\n",
      "90/90 [==============================] - 28s 307ms/step - loss: 0.9068 - accuracy: 0.7676 - val_loss: 1.2563 - val_accuracy: 0.6946\n",
      "Epoch 17/20\n",
      "90/90 [==============================] - 28s 309ms/step - loss: 0.8686 - accuracy: 0.7799 - val_loss: 1.2223 - val_accuracy: 0.7026\n",
      "Epoch 18/20\n",
      "90/90 [==============================] - 28s 309ms/step - loss: 0.8349 - accuracy: 0.7882 - val_loss: 1.2006 - val_accuracy: 0.7102\n",
      "Epoch 19/20\n",
      "90/90 [==============================] - 27s 298ms/step - loss: 0.8037 - accuracy: 0.7997 - val_loss: 1.2190 - val_accuracy: 0.7097\n",
      "Epoch 20/20\n",
      "90/90 [==============================] - 26s 286ms/step - loss: 0.7745 - accuracy: 0.8071 - val_loss: 1.2342 - val_accuracy: 0.7075\n",
      "71/71 [==============================] - 5s 70ms/step - loss: 1.2342 - accuracy: 0.7075\n",
      "\n",
      "👉 Test Accuracy : 0.7075\n"
     ]
    }
   ],
   "source": [
    "x_train = pad_sequences(X_train, maxlen=100)\n",
    "x_test = pad_sequences(X_test, maxlen=100)\n",
    "y_train = np_utils.to_categorical(Y_train)\n",
    "y_test = np_utils.to_categorical(Y_test)\n",
    "\n",
    "model = Sequential()\n",
    "model.add(Embedding(1000, 100))\n",
    "model.add(LSTM(100, activation='tanh'))\n",
    "model.add(Dense(46, activation='softmax'))\n",
    "\n",
    "model.compile(loss='categorical_crossentropy', optimizer='adam', metrics=['accuracy'])\n",
    "\n",
    "history = model.fit(x_train, y_train, batch_size=100, epochs=20, \n",
    "                    validation_data=(x_test, y_test))\n",
    "\n",
    "print(\"\\n👉 Test Accuracy : %.4f\" %(model.evaluate(x_test, y_test)[1]))"
   ]
  },
  {
   "cell_type": "code",
   "execution_count": 4,
   "id": "a23aafe2",
   "metadata": {},
   "outputs": [
    {
     "data": {
      "image/png": "[encoded data removed]",
      "text/plain": [
       "<Figure size 432x288 with 1 Axes>"
      ]
     },
     "metadata": {
      "needs_background": "light"
     },
     "output_type": "display_data"
    }
   ],
   "source": [
    "y_vloss = history.history['val_loss']\n",
    "\n",
    "y_loss = history.history['loss']\n",
    "\n",
    "x_len = numpy.arange(len(y_loss))\n",
    "plt.plot(x_len, y_vloss, marker='.', c='red', label='Testset_loss')\n",
    "plt.plot(x_len, y_loss, marker='.', c='cornflowerblue', label = 'Trainset_loss')\n",
    "\n",
    "plt.legend(loc='upper right')\n",
    "plt.grid()\n",
    "plt.xlabel('epoch')\n",
    "plt.ylabel('loss')\n",
    "plt.show()"
   ]
  }
 ],
 "metadata": {
  "kernelspec": {
   "display_name": "Python 3 (ipykernel)",
   "language": "python",
   "name": "python3"
  },
  "language_info": {
   "codemirror_mode": {
    "name": "ipython",
    "version": 3
   },
   "file_extension": ".py",
   "mimetype": "text/x-python",
   "name": "python",
   "nbconvert_exporter": "python",
   "pygments_lexer": "ipython3",
   "version": "3.9.12"
  }
 },
 "nbformat": 4,
 "nbformat_minor": 5
}
